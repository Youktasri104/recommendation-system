{
 "cells": [
  {
   "cell_type": "code",
   "execution_count": 1,
   "id": "02cb80d7-1b66-4c61-a59d-9ddeb6cf66cb",
   "metadata": {},
   "outputs": [
    {
     "name": "stdout",
     "output_type": "stream",
     "text": [
      "Requirement already satisfied: pandas in c:\\users\\youktasri\\appdata\\local\\programs\\python\\python312\\lib\\site-packages (2.2.2)\n",
      "Requirement already satisfied: numpy>=1.26.0 in c:\\users\\youktasri\\appdata\\local\\programs\\python\\python312\\lib\\site-packages (from pandas) (1.26.1)\n",
      "Requirement already satisfied: python-dateutil>=2.8.2 in c:\\users\\youktasri\\appdata\\local\\programs\\python\\python312\\lib\\site-packages (from pandas) (2.8.2)\n",
      "Requirement already satisfied: pytz>=2020.1 in c:\\users\\youktasri\\appdata\\local\\programs\\python\\python312\\lib\\site-packages (from pandas) (2024.1)\n",
      "Requirement already satisfied: tzdata>=2022.7 in c:\\users\\youktasri\\appdata\\local\\programs\\python\\python312\\lib\\site-packages (from pandas) (2024.1)\n",
      "Requirement already satisfied: six>=1.5 in c:\\users\\youktasri\\appdata\\local\\programs\\python\\python312\\lib\\site-packages (from python-dateutil>=2.8.2->pandas) (1.16.0)\n",
      "Note: you may need to restart the kernel to use updated packages.\n"
     ]
    },
    {
     "name": "stderr",
     "output_type": "stream",
     "text": [
      "\n",
      "[notice] A new release of pip is available: 24.1.1 -> 24.1.2\n",
      "[notice] To update, run: python.exe -m pip install --upgrade pip\n"
     ]
    }
   ],
   "source": [
    "pip install pandas "
   ]
  },
  {
   "cell_type": "code",
   "execution_count": 2,
   "id": "1512630f-7a0d-4290-90bf-4a88d9520098",
   "metadata": {},
   "outputs": [
    {
     "name": "stdout",
     "output_type": "stream",
     "text": [
      "Requirement already satisfied: numpy in c:\\users\\youktasri\\appdata\\local\\programs\\python\\python312\\lib\\site-packages (1.26.1)\n",
      "Note: you may need to restart the kernel to use updated packages.\n"
     ]
    },
    {
     "name": "stderr",
     "output_type": "stream",
     "text": [
      "\n",
      "[notice] A new release of pip is available: 24.1.1 -> 24.1.2\n",
      "[notice] To update, run: python.exe -m pip install --upgrade pip\n"
     ]
    }
   ],
   "source": [
    "pip install numpy"
   ]
  },
  {
   "cell_type": "code",
   "execution_count": 3,
   "id": "dfc150a3-04a6-4d37-9883-d4b37ebe82f7",
   "metadata": {},
   "outputs": [
    {
     "name": "stdout",
     "output_type": "stream",
     "text": [
      "Requirement already satisfied: pip in c:\\users\\youktasri\\appdata\\local\\programs\\python\\python312\\lib\\site-packages (24.1.1)\n",
      "Collecting pip\n",
      "  Downloading pip-24.1.2-py3-none-any.whl.metadata (3.6 kB)\n",
      "Downloading pip-24.1.2-py3-none-any.whl (1.8 MB)\n",
      "   ---------------------------------------- 0.0/1.8 MB ? eta -:--:--\n",
      "    --------------------------------------- 0.0/1.8 MB ? eta -:--:--\n",
      "    --------------------------------------- 0.0/1.8 MB ? eta -:--:--\n",
      "   - -------------------------------------- 0.1/1.8 MB 651.6 kB/s eta 0:00:03\n",
      "   - -------------------------------------- 0.1/1.8 MB 651.6 kB/s eta 0:00:03\n",
      "   -- ------------------------------------- 0.1/1.8 MB 403.5 kB/s eta 0:00:05\n",
      "   -- ------------------------------------- 0.1/1.8 MB 403.5 kB/s eta 0:00:05\n",
      "   --- ------------------------------------ 0.2/1.8 MB 490.7 kB/s eta 0:00:04\n",
      "   --- ------------------------------------ 0.2/1.8 MB 490.7 kB/s eta 0:00:04\n",
      "   ---- ----------------------------------- 0.2/1.8 MB 452.9 kB/s eta 0:00:04\n",
      "   ----- ---------------------------------- 0.2/1.8 MB 502.2 kB/s eta 0:00:04\n",
      "   ----- ---------------------------------- 0.2/1.8 MB 502.2 kB/s eta 0:00:04\n",
      "   ----- ---------------------------------- 0.2/1.8 MB 502.2 kB/s eta 0:00:04\n",
      "   ----- ---------------------------------- 0.2/1.8 MB 502.2 kB/s eta 0:00:04\n",
      "   ----- ---------------------------------- 0.2/1.8 MB 502.2 kB/s eta 0:00:04\n",
      "   ----- ---------------------------------- 0.2/1.8 MB 502.2 kB/s eta 0:00:04\n",
      "   ------ --------------------------------- 0.3/1.8 MB 382.3 kB/s eta 0:00:04\n",
      "   -------- ------------------------------- 0.4/1.8 MB 467.9 kB/s eta 0:00:04\n",
      "   -------- ------------------------------- 0.4/1.8 MB 467.9 kB/s eta 0:00:04\n",
      "   -------- ------------------------------- 0.4/1.8 MB 467.9 kB/s eta 0:00:04\n",
      "   --------- ------------------------------ 0.4/1.8 MB 455.4 kB/s eta 0:00:04\n",
      "   --------- ------------------------------ 0.4/1.8 MB 455.4 kB/s eta 0:00:04\n",
      "   --------- ------------------------------ 0.4/1.8 MB 455.4 kB/s eta 0:00:04\n",
      "   --------- ------------------------------ 0.4/1.8 MB 455.4 kB/s eta 0:00:04\n",
      "   ------------ --------------------------- 0.6/1.8 MB 475.7 kB/s eta 0:00:03\n",
      "   ------------ --------------------------- 0.6/1.8 MB 475.7 kB/s eta 0:00:03\n",
      "   ------------ --------------------------- 0.6/1.8 MB 468.2 kB/s eta 0:00:03\n",
      "   ------------ --------------------------- 0.6/1.8 MB 468.2 kB/s eta 0:00:03\n",
      "   --------------- ------------------------ 0.7/1.8 MB 538.1 kB/s eta 0:00:03\n",
      "   --------------- ------------------------ 0.7/1.8 MB 538.1 kB/s eta 0:00:03\n",
      "   ---------------- ----------------------- 0.7/1.8 MB 516.7 kB/s eta 0:00:03\n",
      "   ---------------- ----------------------- 0.8/1.8 MB 514.5 kB/s eta 0:00:03\n",
      "   ---------------- ----------------------- 0.8/1.8 MB 514.5 kB/s eta 0:00:03\n",
      "   ---------------- ----------------------- 0.8/1.8 MB 514.5 kB/s eta 0:00:03\n",
      "   ---------------- ----------------------- 0.8/1.8 MB 514.5 kB/s eta 0:00:03\n",
      "   ---------------- ----------------------- 0.8/1.8 MB 514.5 kB/s eta 0:00:03\n",
      "   ----------------- ---------------------- 0.8/1.8 MB 469.0 kB/s eta 0:00:03\n",
      "   ------------------- -------------------- 0.9/1.8 MB 519.4 kB/s eta 0:00:02\n",
      "   -------------------- ------------------- 0.9/1.8 MB 507.2 kB/s eta 0:00:02\n",
      "   -------------------- ------------------- 0.9/1.8 MB 509.8 kB/s eta 0:00:02\n",
      "   --------------------- ------------------ 1.0/1.8 MB 507.9 kB/s eta 0:00:02\n",
      "   --------------------- ------------------ 1.0/1.8 MB 507.9 kB/s eta 0:00:02\n",
      "   ---------------------- ----------------- 1.0/1.8 MB 510.7 kB/s eta 0:00:02\n",
      "   ---------------------- ----------------- 1.0/1.8 MB 509.0 kB/s eta 0:00:02\n",
      "   ---------------------- ----------------- 1.0/1.8 MB 509.0 kB/s eta 0:00:02\n",
      "   ----------------------- ---------------- 1.1/1.8 MB 501.2 kB/s eta 0:00:02\n",
      "   ----------------------- ---------------- 1.1/1.8 MB 501.2 kB/s eta 0:00:02\n",
      "   ----------------------- ---------------- 1.1/1.8 MB 501.2 kB/s eta 0:00:02\n",
      "   ------------------------ --------------- 1.1/1.8 MB 492.6 kB/s eta 0:00:02\n",
      "   ------------------------ --------------- 1.1/1.8 MB 492.6 kB/s eta 0:00:02\n",
      "   -------------------------- ------------- 1.2/1.8 MB 499.0 kB/s eta 0:00:02\n",
      "   -------------------------- ------------- 1.2/1.8 MB 499.0 kB/s eta 0:00:02\n",
      "   --------------------------- ------------ 1.2/1.8 MB 501.8 kB/s eta 0:00:02\n",
      "   --------------------------- ------------ 1.2/1.8 MB 501.8 kB/s eta 0:00:02\n",
      "   --------------------------- ------------ 1.2/1.8 MB 501.8 kB/s eta 0:00:02\n",
      "   --------------------------- ------------ 1.2/1.8 MB 501.8 kB/s eta 0:00:02\n",
      "   --------------------------- ------------ 1.2/1.8 MB 501.8 kB/s eta 0:00:02\n",
      "   ------------------------------ --------- 1.4/1.8 MB 521.9 kB/s eta 0:00:01\n",
      "   ------------------------------- -------- 1.5/1.8 MB 525.0 kB/s eta 0:00:01\n",
      "   ------------------------------- -------- 1.5/1.8 MB 525.0 kB/s eta 0:00:01\n",
      "   ------------------------------- -------- 1.5/1.8 MB 525.0 kB/s eta 0:00:01\n",
      "   --------------------------------- ------ 1.5/1.8 MB 520.7 kB/s eta 0:00:01\n",
      "   ---------------------------------- ----- 1.6/1.8 MB 533.3 kB/s eta 0:00:01\n",
      "   ----------------------------------- ---- 1.6/1.8 MB 534.6 kB/s eta 0:00:01\n",
      "   ----------------------------------- ---- 1.6/1.8 MB 527.6 kB/s eta 0:00:01\n",
      "   ------------------------------------ --- 1.7/1.8 MB 539.5 kB/s eta 0:00:01\n",
      "   ------------------------------------- -- 1.7/1.8 MB 543.3 kB/s eta 0:00:01\n",
      "   ------------------------------------- -- 1.7/1.8 MB 543.3 kB/s eta 0:00:01\n",
      "   ------------------------------------- -- 1.7/1.8 MB 543.3 kB/s eta 0:00:01\n",
      "   -------------------------------------- - 1.8/1.8 MB 536.6 kB/s eta 0:00:01\n",
      "   ---------------------------------------- 1.8/1.8 MB 547.6 kB/s eta 0:00:00\n",
      "Installing collected packages: pip\n",
      "  Attempting uninstall: pip\n",
      "    Found existing installation: pip 24.1.1\n",
      "    Uninstalling pip-24.1.1:\n",
      "      Successfully uninstalled pip-24.1.1\n",
      "Successfully installed pip-24.1.2\n",
      "Note: you may need to restart the kernel to use updated packages.\n"
     ]
    }
   ],
   "source": [
    "impo"
   ]
  },
  {
   "cell_type": "code",
   "execution_count": null,
   "id": "6b742ab4-43f5-4011-a912-0c87e5f4501c",
   "metadata": {},
   "outputs": [],
   "source": []
  }
 ],
 "metadata": {
  "kernelspec": {
   "display_name": "Python 3 (ipykernel)",
   "language": "python",
   "name": "python3"
  },
  "language_info": {
   "codemirror_mode": {
    "name": "ipython",
    "version": 3
   },
   "file_extension": ".py",
   "mimetype": "text/x-python",
   "name": "python",
   "nbconvert_exporter": "python",
   "pygments_lexer": "ipython3",
   "version": "3.12.0"
  }
 },
 "nbformat": 4,
 "nbformat_minor": 5
}
